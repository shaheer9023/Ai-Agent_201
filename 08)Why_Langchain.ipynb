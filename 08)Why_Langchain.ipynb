{
  "nbformat": 4,
  "nbformat_minor": 0,
  "metadata": {
    "colab": {
      "provenance": [],
      "authorship_tag": "ABX9TyNYr6yV7q+Az4lQWbV//0k0",
      "include_colab_link": true
    },
    "kernelspec": {
      "name": "python3",
      "display_name": "Python 3"
    },
    "language_info": {
      "name": "python"
    }
  },
  "cells": [
    {
      "cell_type": "markdown",
      "metadata": {
        "id": "view-in-github",
        "colab_type": "text"
      },
      "source": [
        "<a href=\"https://colab.research.google.com/github/shaheer9023/Ai-Agent_201/blob/main/08)Why_Langchain.ipynb\" target=\"_parent\"><img src=\"https://colab.research.google.com/assets/colab-badge.svg\" alt=\"Open In Colab\"/></a>"
      ]
    },
    {
      "cell_type": "markdown",
      "source": [
        "# ***Why We Use Langchain***"
      ],
      "metadata": {
        "id": "mHXixvdko5WQ"
      }
    },
    {
      "cell_type": "code",
      "execution_count": null,
      "metadata": {
        "id": "0hm7Z39Xo0Cp"
      },
      "outputs": [],
      "source": [
        "from google.colab import userdata\n",
        "key=userdata.get('2.O_exp')"
      ]
    },
    {
      "cell_type": "code",
      "source": [
        "!pip install langchain_google_genai -q"
      ],
      "metadata": {
        "id": "gAseDC2iqCFf"
      },
      "execution_count": null,
      "outputs": []
    },
    {
      "cell_type": "code",
      "source": [
        "from langchain_google_genai import ChatGoogleGenerativeAI\n"
      ],
      "metadata": {
        "id": "iR4qZYaCqHFW"
      },
      "execution_count": null,
      "outputs": []
    },
    {
      "cell_type": "code",
      "source": [
        "from langchain.prompts import PromptTemplate"
      ],
      "metadata": {
        "id": "05-_Y_7ryWTO"
      },
      "execution_count": null,
      "outputs": []
    },
    {
      "cell_type": "markdown",
      "source": [
        "**Purpose:**\n",
        "`PromptTemplate` ko is liye use krty hain ta k hum yani user  usko instructions de sakain k hamain kesa response mily  "
      ],
      "metadata": {
        "id": "4Ghlw7oP2a7L"
      }
    },
    {
      "cell_type": "markdown",
      "source": [],
      "metadata": {
        "id": "n5riB49Y85-R"
      }
    },
    {
      "cell_type": "code",
      "source": [
        "llm=ChatGoogleGenerativeAI(\n",
        "    api_key=key,\n",
        "    model =\"gemini-2.0-flash-exp\"\n",
        ")"
      ],
      "metadata": {
        "id": "TTa-j7K_qKYv"
      },
      "execution_count": null,
      "outputs": []
    },
    {
      "cell_type": "code",
      "source": [
        "from IPython.display import Markdown"
      ],
      "metadata": {
        "id": "F4iu-x2zAHae"
      },
      "execution_count": null,
      "outputs": []
    },
    {
      "cell_type": "markdown",
      "source": [
        "- yahan hmny `promptTemplate` ka use krty huwe usko instructions di hain or usko instructions variable k equal kr diya h\n",
        "-`chain=instructions|llm` Yeh line batati hai ke humne PromptTemplate ko LLM ke saath connect kar diya hai. Yeh chain banana isliye zaroori hai ke model ko pata chal sake ke humein output kis structure mein chahiye."
      ],
      "metadata": {
        "id": "2BgiYnmLAsLT"
      }
    },
    {
      "cell_type": "markdown",
      "source": [],
      "metadata": {
        "id": "y43GbhjHCP4c"
      }
    },
    {
      "cell_type": "code",
      "source": [
        "prompt=input(\"enter prompt : \")\n",
        "instructions=PromptTemplate(\n",
        "    input= prompt,\n",
        "    template=\"\"\"Answer the given prompt in\n",
        "    -detail\n",
        "    -points\n",
        "    -roman urdu : {prompt}\"\"\"\n",
        ")\n",
        "chain=instructions|llm\n",
        "\n",
        "response=chain.invoke(prompt)\n",
        "Markdown(response.content)"
      ],
      "metadata": {
        "colab": {
          "base_uri": "https://localhost:8080/",
          "height": 1000
        },
        "id": "H1tyzP3T9_pt",
        "outputId": "83301e5c-dae6-4e36-e72c-fe9874c6474e"
      },
      "execution_count": null,
      "outputs": [
        {
          "name": "stdout",
          "output_type": "stream",
          "text": [
            "enter prompt : tell me about pakistan\n"
          ]
        },
        {
          "output_type": "execute_result",
          "data": {
            "text/plain": [
              "<IPython.core.display.Markdown object>"
            ],
            "text/markdown": "Theek hai, Pakistan ke bare mein tafseeli aur points mein roman urdu mein batata hun:\n\n**Pakistan: Aik Tafseeli Jaiza (Detailed Overview)**\n\n*   **Naam aur Maani (Name and Meaning):**\n    *   \"Pakistan\" ka lafz do alfaaz se bana hai: \"Pak\" (Paak, yaani pure) aur \"Stan\" (jagah, yaani place).\n    *   Iska matlab hai \"Paak Logon ki Sarzameen\" ya \"Land of the Pure\".\n\n*   **Tareekh (History):**\n    *   Pakistan 14 August 1947 ko British India se alag hokar wujood mein aaya.\n    *   Ye Muslim majority areas ko mila kar banaya gaya tha, jo independence chahte the.\n    *   Movement ki qiyadat (leadership) Quaid-e-Azam Muhammad Ali Jinnah ne ki.\n    *   Pakistan aur India ke darmyan kai jangain (wars) bhi hui hain, Kashmir ke issue per.\n\n*   **Geography (Geography):**\n    *   Pakistan Junubi Asia (South Asia) mein waqia hai.\n    *   Iske mashriq (east) mein India, shumaal mashriq (northeast) mein China, maghrib (west) mein Afghanistan aur Iran, aur junub (south) mein Arab Sagar (Arabian Sea) hai.\n    *   Pakistan mein pahar, sahra (deserts), aur maidaani ilaake (plains) shamil hain.\n    *   K2, duniya ki dusri sab se unchi choti (peak), Pakistan mein waqia hai.\n    *   Indus River (Darya-e-Sindh) Pakistan ka sab se bara darya hai.\n\n*   **Abadi (Population):**\n    *   Pakistan duniya ka panchwan (5th) sab se zyada abadi wala mulk hai.\n    *   Abadi taqreeban 24 crore (240 million) se zyada hai.\n    *   Abadi ki aksariyat (majority) Muslim hai.\n    *   Urdu qaumi zaban (national language) hai, lekin Punjabi, Sindhi, Pashto, aur Balochi bhi boli jati hain.\n\n*   **Hukumat (Government):**\n    *   Pakistan aik Islamic Jamhuriya (Islamic Republic) hai.\n    *   Parliamentary nizam (parliamentary system) hai.\n    *   Sadr (President) head of state hote hain, aur Wazir-e-Azam (Prime Minister) head of government.\n    *   Parliament do ewanon (houses) par mushtamil hai: National Assembly aur Senate.\n\n*   **Maeeshat (Economy):**\n    *   Pakistan ki maeeshat ziraat (agriculture), san'at (industry), aur services par mabni hai.\n    *   Ziraat mein gandum (wheat), chawal (rice), aur kapas (cotton) ahem faslein (crops) hain.\n    *   San'at mein textile, cement, aur steel shamil hain.\n    *   Pakistan ki maeeshat ko kai challenges ka samna hai, jaise ke qarz (debt), inflation, aur unemployment.\n\n*   **Culture (Saqafat):**\n    *   Pakistan ka culture bohat rangarang (diverse) hai.\n    *   Har ilaqe ki apni alag saqafat hai, jismein libas (clothing), khana (food), aur raso-riwaj (customs) shamil hain.\n    *   Music, dance, aur literature Pakistan ki saqafat ka ahem hissa hain.\n    *   Eid-ul-Fitr aur Eid-ul-Adha ahem mazhabi tehwar (religious festivals) hain.\n\n*   **Shehar (Cities):**\n    *   Karachi sab se bara shehar aur maeeshati markaz (economic hub) hai.\n    *   Lahore Pakistan ka cultural capital hai.\n    *   Islamabad dar-ul-hukumat (capital) hai.\n    *   Faisalabad san'ati shehar (industrial city) hai.\n    *   Rawalpindi Islamabad ka twin city hai.\n\n*   **Masail (Problems/Challenges):**\n    *   Pakistan ko kai masail ka samna hai, jaise ke terrorism, corruption, energy crisis, aur pani ki kami (water scarcity).\n    *   Education aur health sectors mein bhi improvements ki zaroorat hai.\n\n**Points mein (In Points):**\n\n*   **Name:** Islamic Republic of Pakistan\n*   **Independence:** August 14, 1947\n*   **Capital:** Islamabad\n*   **Largest City:** Karachi\n*   **Official Language:** Urdu\n*   **Population:** 240 Million+\n*   **Government:** Parliamentary Republic\n*   **Currency:** Pakistani Rupee (PKR)\n*   **Major Religions:** Islam (Majority)\n*   **Key Industries:** Agriculture, Textiles, Manufacturing\n\nUmeed hai ke yeh tafseel aapke liye madadgar hogi. Agar koi aur sawal ho to pooch sakte hain."
          },
          "metadata": {},
          "execution_count": 31
        }
      ]
    }
  ]
}