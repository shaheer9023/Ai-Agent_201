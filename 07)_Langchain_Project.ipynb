{
  "nbformat": 4,
  "nbformat_minor": 0,
  "metadata": {
    "colab": {
      "provenance": [],
      "authorship_tag": "ABX9TyOMuRGepL/CINiSKGoZzcAg",
      "include_colab_link": true
    },
    "kernelspec": {
      "name": "python3",
      "display_name": "Python 3"
    },
    "language_info": {
      "name": "python"
    }
  },
  "cells": [
    {
      "cell_type": "markdown",
      "metadata": {
        "id": "view-in-github",
        "colab_type": "text"
      },
      "source": [
        "<a href=\"https://colab.research.google.com/github/shaheer9023/Ai-Agent_201/blob/main/07)_Langchain_Project.ipynb\" target=\"_parent\"><img src=\"https://colab.research.google.com/assets/colab-badge.svg\" alt=\"Open In Colab\"/></a>"
      ]
    },
    {
      "cell_type": "markdown",
      "source": [
        "Importing Gemini API Key"
      ],
      "metadata": {
        "id": "ktWQAwF4SlfG"
      }
    },
    {
      "cell_type": "code",
      "source": [
        "from google.colab import userdata\n",
        "key=userdata.get('2.O_exp')"
      ],
      "metadata": {
        "id": "VzEODAVSPlOa"
      },
      "execution_count": 3,
      "outputs": []
    },
    {
      "cell_type": "markdown",
      "source": [
        "Installing Langchain"
      ],
      "metadata": {
        "id": "NldmzbE2Svp6"
      }
    },
    {
      "cell_type": "code",
      "source": [
        "!pip install langchain_google_genai -q"
      ],
      "metadata": {
        "id": "EBsthRu3PqQC"
      },
      "execution_count": 4,
      "outputs": []
    },
    {
      "cell_type": "markdown",
      "source": [
        "Importing ChatGoogleGenerativeAI"
      ],
      "metadata": {
        "id": "4iuuaBH7SzUD"
      }
    },
    {
      "cell_type": "code",
      "source": [
        "from langchain_google_genai import ChatGoogleGenerativeAI"
      ],
      "metadata": {
        "id": "m_wBEUhsP6mK"
      },
      "execution_count": 12,
      "outputs": []
    },
    {
      "cell_type": "markdown",
      "source": [
        "making llm by using ChatGoogleGenerativeAI Function"
      ],
      "metadata": {
        "id": "7axWPTvUS-d3"
      }
    },
    {
      "cell_type": "code",
      "source": [
        "llm=ChatGoogleGenerativeAI(\n",
        "    api_key=key,\n",
        "    model =\"gemini-2.0-flash-exp\",\n",
        ")"
      ],
      "metadata": {
        "id": "cQn3JabNQIT5"
      },
      "execution_count": 13,
      "outputs": []
    },
    {
      "cell_type": "markdown",
      "source": [
        "importing Markdown for better formating"
      ],
      "metadata": {
        "id": "KvkRt0yQTRSZ"
      }
    },
    {
      "cell_type": "code",
      "source": [
        "from IPython.display import Markdown"
      ],
      "metadata": {
        "id": "iZinPirCSTCD"
      },
      "execution_count": 15,
      "outputs": []
    },
    {
      "cell_type": "markdown",
      "source": [
        "Generating Response"
      ],
      "metadata": {
        "id": "V7C6SCkYTTZZ"
      }
    },
    {
      "cell_type": "code",
      "source": [
        "prompt=input(\"enter prompt : \")\n",
        "response=llm.invoke(prompt)\n",
        "Markdown(response.content)"
      ],
      "metadata": {
        "colab": {
          "base_uri": "https://localhost:8080/",
          "height": 250
        },
        "id": "vIuhK8UkRCmD",
        "outputId": "e4011a13-095e-4986-e3a4-004e05698229"
      },
      "execution_count": 16,
      "outputs": [
        {
          "name": "stdout",
          "output_type": "stream",
          "text": [
            "enter prompt : tell me about yourself\n"
          ]
        },
        {
          "output_type": "execute_result",
          "data": {
            "text/plain": [
              "<IPython.core.display.Markdown object>"
            ],
            "text/markdown": "Okay, here's a little about me:\n\n*   **I am a large language model, also known as a conversational AI or chatbot.** I'm trained to be informative and comprehensive. I am trained on a massive amount of text data.\n*   **I was developed by Google.**\n*   **My purpose is to assist users with a wide range of tasks.** This includes answering questions, providing summaries, generating creative content, translating languages, and much more.\n*   **I learn and improve as I am exposed to more data.** While I have been trained on a vast dataset, I am constantly being updated and refined.\n*   **I don't have personal experiences, emotions, or opinions in the same way a human does.** My responses are based on the patterns and relationships I've learned from the data I've been trained on.\n*   **I don't have access to the internet in real-time.** My knowledge is based on the data I was trained on, and I can't browse the web to get updated information.\n\nIn short, I'm a tool designed to process information and generate text-based responses. How can I help you today?"
          },
          "metadata": {},
          "execution_count": 16
        }
      ]
    }
  ]
}